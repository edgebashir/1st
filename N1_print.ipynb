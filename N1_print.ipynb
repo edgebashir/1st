{
  "nbformat": 4,
  "nbformat_minor": 0,
  "metadata": {
    "colab": {
      "provenance": [],
      "authorship_tag": "ABX9TyME6jC+YjiJOZVDrxQlLASQ",
      "include_colab_link": true
    },
    "kernelspec": {
      "name": "python3",
      "display_name": "Python 3"
    },
    "language_info": {
      "name": "python"
    }
  },
  "cells": [
    {
      "cell_type": "markdown",
      "metadata": {
        "id": "view-in-github",
        "colab_type": "text"
      },
      "source": [
        "<a href=\"https://colab.research.google.com/github/edgebashir/1st/blob/main/N1_print.ipynb\" target=\"_parent\"><img src=\"https://colab.research.google.com/assets/colab-badge.svg\" alt=\"Open In Colab\"/></a>"
      ]
    },
    {
      "cell_type": "code",
      "execution_count": null,
      "metadata": {
        "id": "5lxPn_e7DdPU"
      },
      "outputs": [],
      "source": [
        "Variables and assignment"
      ]
    },
    {
      "cell_type": "code",
      "source": [
        "x = 5\n",
        "y = 3.14\n",
        "name = \"Bashir\"\n",
        "name1 = \"Borhan\"\n",
        "is_student = True\n",
        "\n",
        "print(x)\n",
        "print(y)\n",
        "print(name)\n",
        "print(name1)\n",
        "print(is_student)\n",
        "\n",
        "print(\"Type : \")\n",
        "print(type(x))\n",
        "print(type(y))\n",
        "\n",
        "print(\"Type conversion \")\n",
        "a = \"123\"\n",
        "b = int(a)\n",
        "print(type(b))\n",
        "\n",
        "\n"
      ],
      "metadata": {
        "colab": {
          "base_uri": "https://localhost:8080/"
        },
        "id": "rZNbvn6-EKCb",
        "outputId": "d7aecbb3-07e8-4386-d77d-49c60804429a"
      },
      "execution_count": null,
      "outputs": [
        {
          "output_type": "stream",
          "name": "stdout",
          "text": [
            "5\n",
            "3.14\n",
            "Bashir\n",
            "Borhan\n",
            "True\n",
            "Type : \n",
            "<class 'int'>\n",
            "<class 'float'>\n",
            "Type conversion \n",
            "<class 'int'>\n"
          ]
        }
      ]
    },
    {
      "cell_type": "markdown",
      "source": [],
      "metadata": {
        "id": "_h_HOhKsEEsz"
      }
    }
  ]
}