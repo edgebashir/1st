{
  "nbformat": 4,
  "nbformat_minor": 0,
  "metadata": {
    "colab": {
      "provenance": [],
      "authorship_tag": "ABX9TyPH5kDOS6qjwwNKblmv2xj7",
      "include_colab_link": true
    },
    "kernelspec": {
      "name": "python3",
      "display_name": "Python 3"
    },
    "language_info": {
      "name": "python"
    }
  },
  "cells": [
    {
      "cell_type": "markdown",
      "metadata": {
        "id": "view-in-github",
        "colab_type": "text"
      },
      "source": [
        "<a href=\"https://colab.research.google.com/github/edgebashir/1st/blob/main/N2_print2number.ipynb\" target=\"_parent\"><img src=\"https://colab.research.google.com/assets/colab-badge.svg\" alt=\"Open In Colab\"/></a>"
      ]
    },
    {
      "cell_type": "markdown",
      "source": [
        "1. Write a script that takes two numbers as input and prints their sum.\n"
      ],
      "metadata": {
        "id": "Eptytt-jaLnh"
      }
    },
    {
      "cell_type": "code",
      "source": [
        "num1 = float(input(\"Num1 = \"))\n",
        "num2 = float(input(\"Num2 = \"))\n",
        "\n",
        "sum = num1 + num2\n",
        "\n",
        "print(f\"The sum of [{num1}] and [{num2}] is = {sum}\")"
      ],
      "metadata": {
        "colab": {
          "base_uri": "https://localhost:8080/"
        },
        "id": "osV6GEp4aOhh",
        "outputId": "7ea7789a-25fd-4719-c620-c2188ba6e738"
      },
      "execution_count": null,
      "outputs": [
        {
          "output_type": "stream",
          "name": "stdout",
          "text": [
            "Num1 = 1\n",
            "Num2 = 2\n",
            "The sum of [1.0] and [2.0] is = 3.0\n"
          ]
        }
      ]
    },
    {
      "cell_type": "markdown",
      "source": [
        "2. Write a script that asks the user for their favorite color and prints a message including\n",
        "their input.\n"
      ],
      "metadata": {
        "id": "6sbTwBdhc5dg"
      }
    },
    {
      "cell_type": "code",
      "source": [
        "favorite_color = input(\"What is your favorite color ? \")\n",
        "\n",
        "print(f\"Your favorite color is = {favorite_color}\")"
      ],
      "metadata": {
        "colab": {
          "base_uri": "https://localhost:8080/"
        },
        "id": "srTkY30ec7uI",
        "outputId": "4334efb9-b3b9-457e-e11c-1b308d1277b3"
      },
      "execution_count": null,
      "outputs": [
        {
          "output_type": "stream",
          "name": "stdout",
          "text": [
            "What is your favorite color ? color\n",
            "Your favorite color is = color\n"
          ]
        }
      ]
    }
  ]
}